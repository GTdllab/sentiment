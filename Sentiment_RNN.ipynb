{
 "cells": [
  {
   "cell_type": "markdown",
   "metadata": {},
   "source": [
    "# Sentiment Analysis with an RNN\n",
    "\n",
    "In this notebook, you'll implement a recurrent neural network that performs sentiment analysis. Using an RNN rather than a feedfoward network is more accurate since we can include information about the *sequence* of words. Here we'll use a dataset of movie reviews, accompanied by labels.\n",
    "\n",
    "The architecture for this network is shown below.\n",
    "\n",
    "<img src=\"assets/network_diagram.png\" width=400px>\n",
    "\n",
    "Here, we'll pass in words to an embedding layer. We need an embedding layer because we have tens of thousands of words, so we'll need a more efficient representation for our input data than one-hot encoded vectors. You should have seen this before from the word2vec lesson. You can actually train up an embedding with word2vec and use it here. But it's good enough to just have an embedding layer and let the network learn the embedding table on it's own.\n",
    "\n",
    "From the embedding layer, the new representations will be passed to LSTM cells. These will add recurrent connections to the network so we can include information about the sequence of words in the data. Finally, the LSTM cells will go to a sigmoid output layer here. We're using the sigmoid because we're trying to predict if this text has positive or negative sentiment. The output layer will just be a single unit then, with a sigmoid activation function.\n",
    "\n",
    "We don't care about the sigmoid outputs except for the very last one, we can ignore the rest. We'll calculate the cost from the output of the last step and the training label."
   ]
  },
  {
   "cell_type": "code",
   "execution_count": 1,
   "metadata": {
    "collapsed": true
   },
   "outputs": [],
   "source": [
    "import numpy as np\n",
    "import tensorflow as tf"
   ]
  },
  {
   "cell_type": "code",
   "execution_count": 2,
   "metadata": {
    "collapsed": true
   },
   "outputs": [],
   "source": [
    "with open('../sentiment-network/reviews.txt', 'r') as f:\n",
    "    reviews = f.read()\n",
    "with open('../sentiment-network/labels.txt', 'r') as f:\n",
    "    labels = f.read()"
   ]
  },
  {
   "cell_type": "code",
   "execution_count": 3,
   "metadata": {},
   "outputs": [
    {
     "data": {
      "text/plain": [
       "'bromwell high is a cartoon comedy . it ran at the same time as some other programs about school life  such as  teachers  . my   years in the teaching profession lead me to believe that bromwell high  s satire is much closer to reality than is  teachers  . the scramble to survive financially  the insightful students who can see right through their pathetic teachers  pomp  the pettiness of the whole situation  all remind me of the schools i knew and their students . when i saw the episode in which a student repeatedly tried to burn down the school  i immediately recalled . . . . . . . . . at . . . . . . . . . . high . a classic line inspector i  m here to sack one of your teachers . student welcome to bromwell high . i expect that many adults of my age think that bromwell high is far fetched . what a pity that it isn  t   \\nstory of a man who has unnatural feelings for a pig . starts out with a opening scene that is a terrific example of absurd comedy . a formal orchestra audience is turned into an insane  violent mob by the crazy chantings of it  s singers . unfortunately it stays absurd the whole time with no general narrative eventually making it just too off putting . even those from the era should be turned off . the cryptic dialogue would make shakespeare seem easy to a third grader . on a technical level it  s better than you might think with some good cinematography by future great vilmos zsigmond . future stars sally kirkland and frederic forrest can be seen briefly .  \\nhomelessness  or houselessness as george carlin stated  has been an issue for years but never a plan to help those on the street that were once considered human who did everything from going to school  work  or vote for the matter . most people think of the homeless as just a lost cause while worrying about things such as racism  the war on iraq  pressuring kids to succeed  technology  the elections  inflation  or worrying if they  ll be next to end up on the streets .  br    br   but what if y'"
      ]
     },
     "execution_count": 3,
     "metadata": {},
     "output_type": "execute_result"
    }
   ],
   "source": [
    "reviews[:2000]"
   ]
  },
  {
   "cell_type": "markdown",
   "metadata": {},
   "source": [
    "## Data preprocessing\n",
    "\n",
    "The first step when building a neural network model is getting your data into the proper form to feed into the network. Since we're using embedding layers, we'll need to encode each word with an integer. We'll also want to clean it up a bit.\n",
    "\n",
    "You can see an example of the reviews data above. We'll want to get rid of those periods. Also, you might notice that the reviews are delimited with newlines `\\n`. To deal with those, I'm going to split the text into each review using `\\n` as the delimiter. Then I can combined all the reviews back together into one big string.\n",
    "\n",
    "First, let's remove all punctuation. Then get all the text without the newlines and split it into individual words."
   ]
  },
  {
   "cell_type": "code",
   "execution_count": 4,
   "metadata": {
    "collapsed": true
   },
   "outputs": [],
   "source": [
    "from string import punctuation\n",
    "all_text = ''.join([c for c in reviews if c not in punctuation])\n",
    "reviews = all_text.split('\\n')\n",
    "\n",
    "all_text = ' '.join(reviews)\n",
    "words = all_text.split()"
   ]
  },
  {
   "cell_type": "code",
   "execution_count": 5,
   "metadata": {},
   "outputs": [
    {
     "data": {
      "text/plain": [
       "'bromwell high is a cartoon comedy  it ran at the same time as some other programs about school life  such as  teachers   my   years in the teaching profession lead me to believe that bromwell high  s satire is much closer to reality than is  teachers   the scramble to survive financially  the insightful students who can see right through their pathetic teachers  pomp  the pettiness of the whole situation  all remind me of the schools i knew and their students  when i saw the episode in which a student repeatedly tried to burn down the school  i immediately recalled          at           high  a classic line inspector i  m here to sack one of your teachers  student welcome to bromwell high  i expect that many adults of my age think that bromwell high is far fetched  what a pity that it isn  t    story of a man who has unnatural feelings for a pig  starts out with a opening scene that is a terrific example of absurd comedy  a formal orchestra audience is turned into an insane  violent mob by the crazy chantings of it  s singers  unfortunately it stays absurd the whole time with no general narrative eventually making it just too off putting  even those from the era should be turned off  the cryptic dialogue would make shakespeare seem easy to a third grader  on a technical level it  s better than you might think with some good cinematography by future great vilmos zsigmond  future stars sally kirkland and frederic forrest can be seen briefly    homelessness  or houselessness as george carlin stated  has been an issue for years but never a plan to help those on the street that were once considered human who did everything from going to school  work  or vote for the matter  most people think of the homeless as just a lost cause while worrying about things such as racism  the war on iraq  pressuring kids to succeed  technology  the elections  inflation  or worrying if they  ll be next to end up on the streets   br    br   but what if you were given a bet to live on the st'"
      ]
     },
     "execution_count": 5,
     "metadata": {},
     "output_type": "execute_result"
    }
   ],
   "source": [
    "all_text[:2000]"
   ]
  },
  {
   "cell_type": "code",
   "execution_count": 6,
   "metadata": {
    "scrolled": true
   },
   "outputs": [
    {
     "data": {
      "text/plain": [
       "['bromwell',\n",
       " 'high',\n",
       " 'is',\n",
       " 'a',\n",
       " 'cartoon',\n",
       " 'comedy',\n",
       " 'it',\n",
       " 'ran',\n",
       " 'at',\n",
       " 'the',\n",
       " 'same',\n",
       " 'time',\n",
       " 'as',\n",
       " 'some',\n",
       " 'other',\n",
       " 'programs',\n",
       " 'about',\n",
       " 'school',\n",
       " 'life',\n",
       " 'such',\n",
       " 'as',\n",
       " 'teachers',\n",
       " 'my',\n",
       " 'years',\n",
       " 'in',\n",
       " 'the',\n",
       " 'teaching',\n",
       " 'profession',\n",
       " 'lead',\n",
       " 'me',\n",
       " 'to',\n",
       " 'believe',\n",
       " 'that',\n",
       " 'bromwell',\n",
       " 'high',\n",
       " 's',\n",
       " 'satire',\n",
       " 'is',\n",
       " 'much',\n",
       " 'closer',\n",
       " 'to',\n",
       " 'reality',\n",
       " 'than',\n",
       " 'is',\n",
       " 'teachers',\n",
       " 'the',\n",
       " 'scramble',\n",
       " 'to',\n",
       " 'survive',\n",
       " 'financially',\n",
       " 'the',\n",
       " 'insightful',\n",
       " 'students',\n",
       " 'who',\n",
       " 'can',\n",
       " 'see',\n",
       " 'right',\n",
       " 'through',\n",
       " 'their',\n",
       " 'pathetic',\n",
       " 'teachers',\n",
       " 'pomp',\n",
       " 'the',\n",
       " 'pettiness',\n",
       " 'of',\n",
       " 'the',\n",
       " 'whole',\n",
       " 'situation',\n",
       " 'all',\n",
       " 'remind',\n",
       " 'me',\n",
       " 'of',\n",
       " 'the',\n",
       " 'schools',\n",
       " 'i',\n",
       " 'knew',\n",
       " 'and',\n",
       " 'their',\n",
       " 'students',\n",
       " 'when',\n",
       " 'i',\n",
       " 'saw',\n",
       " 'the',\n",
       " 'episode',\n",
       " 'in',\n",
       " 'which',\n",
       " 'a',\n",
       " 'student',\n",
       " 'repeatedly',\n",
       " 'tried',\n",
       " 'to',\n",
       " 'burn',\n",
       " 'down',\n",
       " 'the',\n",
       " 'school',\n",
       " 'i',\n",
       " 'immediately',\n",
       " 'recalled',\n",
       " 'at',\n",
       " 'high']"
      ]
     },
     "execution_count": 6,
     "metadata": {},
     "output_type": "execute_result"
    }
   ],
   "source": [
    "words[:100]"
   ]
  },
  {
   "cell_type": "markdown",
   "metadata": {},
   "source": [
    "### Encoding the words\n",
    "\n",
    "The embedding lookup requires that we pass in integers to our network. The easiest way to do this is to create dictionaries that map the words in the vocabulary to integers. Then we can convert each of our reviews into integers so they can be passed into the network.\n",
    "\n",
    "> **Exercise:** Now you're going to encode the words with integers. Build a dictionary that maps words to integers. Later we're going to pad our input vectors with zeros, so make sure the integers **start at 1, not 0**.\n",
    "> Also, convert the reviews to integers and store the reviews in a new list called `reviews_ints`. "
   ]
  },
  {
   "cell_type": "code",
   "execution_count": 7,
   "metadata": {},
   "outputs": [
    {
     "data": {
      "text/plain": [
       "['bromwell high is a cartoon comedy  it ran at the same time as some other programs about school life  such as  teachers   my   years in the teaching profession lead me to believe that bromwell high  s satire is much closer to reality than is  teachers   the scramble to survive financially  the insightful students who can see right through their pathetic teachers  pomp  the pettiness of the whole situation  all remind me of the schools i knew and their students  when i saw the episode in which a student repeatedly tried to burn down the school  i immediately recalled          at           high  a classic line inspector i  m here to sack one of your teachers  student welcome to bromwell high  i expect that many adults of my age think that bromwell high is far fetched  what a pity that it isn  t   ',\n",
       " 'story of a man who has unnatural feelings for a pig  starts out with a opening scene that is a terrific example of absurd comedy  a formal orchestra audience is turned into an insane  violent mob by the crazy chantings of it  s singers  unfortunately it stays absurd the whole time with no general narrative eventually making it just too off putting  even those from the era should be turned off  the cryptic dialogue would make shakespeare seem easy to a third grader  on a technical level it  s better than you might think with some good cinematography by future great vilmos zsigmond  future stars sally kirkland and frederic forrest can be seen briefly   ']"
      ]
     },
     "execution_count": 7,
     "metadata": {},
     "output_type": "execute_result"
    }
   ],
   "source": [
    "reviews[:2]"
   ]
  },
  {
   "cell_type": "code",
   "execution_count": 27,
   "metadata": {
    "collapsed": true
   },
   "outputs": [],
   "source": [
    "vocab_to_int = {c: i+1 for i, c in enumerate(sorted(set(words)))}"
   ]
  },
  {
   "cell_type": "code",
   "execution_count": 28,
   "metadata": {
    "scrolled": true
   },
   "outputs": [
    {
     "name": "stdout",
     "output_type": "stream",
     "text": [
      "62632\n",
      "45809\n",
      "1\n",
      "39682\n",
      "72144\n",
      "29037\n",
      "69126\n",
      "23140\n",
      "24476\n",
      "1\n",
      "49065\n",
      "62117\n",
      "46592\n",
      "72586\n",
      "1\n",
      "46172\n",
      "57043\n",
      "65523\n",
      "33665\n",
      "1\n",
      "65356\n",
      "21888\n",
      "45809\n",
      "248\n",
      "12477\n",
      "1\n",
      "24615\n",
      "46317\n",
      "3892\n",
      "33665\n",
      "67833\n",
      "33335\n",
      "2085\n",
      "32858\n",
      "70693\n",
      "42444\n",
      "8937\n",
      "65543\n",
      "14405\n",
      "10551\n",
      "45809\n",
      "33768\n",
      "56131\n",
      "59557\n",
      "68839\n",
      "33768\n",
      "62184\n",
      "248\n",
      "65543\n",
      "72153\n",
      "66137\n",
      "72586\n",
      "44929\n",
      "26124\n",
      "44055\n",
      "21739\n",
      "39533\n",
      "33768\n",
      "34885\n",
      "66541\n",
      "45812\n",
      "51903\n",
      "21724\n",
      "65827\n",
      "25211\n",
      "65543\n",
      "21292\n",
      "59021\n",
      "5272\n",
      "67833\n",
      "45812\n",
      "65543\n",
      "14850\n",
      "17203\n",
      "72966\n",
      "39512\n",
      "58397\n",
      "57773\n",
      "19787\n",
      "66340\n",
      "1\n",
      "65755\n",
      "27380\n",
      "46049\n",
      "1\n",
      "65001\n",
      "37601\n",
      "33768\n",
      "56131\n",
      "6036\n",
      "65500\n",
      "73569\n",
      "41753\n",
      "65736\n",
      "72586\n",
      "60807\n",
      "27109\n",
      "11456\n",
      "8937\n",
      "25493\n",
      "27592\n",
      "70642\n",
      "74029\n",
      "25493\n",
      "62100\n",
      "56394\n",
      "35794\n",
      "2176\n",
      "24985\n",
      "24658\n",
      "9324\n",
      "5272\n",
      "57783\n",
      "8031\n"
     ]
    }
   ],
   "source": [
    "for i in reviews[1].split():\n",
    "    print(vocab_to_int[i])"
   ]
  },
  {
   "cell_type": "code",
   "execution_count": 29,
   "metadata": {},
   "outputs": [],
   "source": [
    "reviews_ints=[]\n",
    "for review in reviews:\n",
    "    reviews_ints.append([vocab_to_int[word] for word in review.split()])"
   ]
  },
  {
   "cell_type": "code",
   "execution_count": 23,
   "metadata": {
    "collapsed": true
   },
   "outputs": [
    {
     "data": {
      "text/plain": [
       "[[8210,\n",
       "  29951,\n",
       "  33665,\n",
       "  1,\n",
       "  9819,\n",
       "  12477,\n",
       "  33768,\n",
       "  52591,\n",
       "  3689,\n",
       "  65543,\n",
       "  56451,\n",
       "  66137,\n",
       "  3397,\n",
       "  60807,\n",
       "  46549,\n",
       "  51107,\n",
       "  181,\n",
       "  57199,\n",
       "  37775,\n",
       "  63328,\n",
       "  3397,\n",
       "  64947,\n",
       "  43774,\n",
       "  73400,\n",
       "  32081,\n",
       "  65543,\n",
       "  64949,\n",
       "  51048,\n",
       "  37169,\n",
       "  40892,\n",
       "  66340,\n",
       "  5656,\n",
       "  65523,\n",
       "  8210,\n",
       "  29951,\n",
       "  56131,\n",
       "  56749,\n",
       "  33665,\n",
       "  43370,\n",
       "  11909,\n",
       "  66340,\n",
       "  52995,\n",
       "  65500,\n",
       "  33665,\n",
       "  64947,\n",
       "  65543,\n",
       "  57391,\n",
       "  66340,\n",
       "  63897,\n",
       "  23639,\n",
       "  65543,\n",
       "  32899,\n",
       "  62982,\n",
       "  72144,\n",
       "  9324,\n",
       "  57754,\n",
       "  55004,\n",
       "  65910,\n",
       "  65571,\n",
       "  47835,\n",
       "  64947,\n",
       "  49909,\n",
       "  65543,\n",
       "  48678,\n",
       "  45809,\n",
       "  65543,\n",
       "  72153,\n",
       "  59676,\n",
       "  1575,\n",
       "  53960,\n",
       "  40892,\n",
       "  45809,\n",
       "  65543,\n",
       "  57220,\n",
       "  31424,\n",
       "  35957,\n",
       "  2176,\n",
       "  65571,\n",
       "  62982,\n",
       "  71992,\n",
       "  31424,\n",
       "  56861,\n",
       "  65543,\n",
       "  21220,\n",
       "  32081,\n",
       "  72012,\n",
       "  1,\n",
       "  62981,\n",
       "  54120,\n",
       "  67368,\n",
       "  66340,\n",
       "  8739,\n",
       "  18862,\n",
       "  65543,\n",
       "  57199,\n",
       "  31424,\n",
       "  31806,\n",
       "  53134,\n",
       "  3689,\n",
       "  29951,\n",
       "  1,\n",
       "  11650,\n",
       "  37968,\n",
       "  32940,\n",
       "  31424,\n",
       "  39081,\n",
       "  29717,\n",
       "  66340,\n",
       "  56190,\n",
       "  46065,\n",
       "  45809,\n",
       "  73598,\n",
       "  64947,\n",
       "  62981,\n",
       "  71776,\n",
       "  66340,\n",
       "  8210,\n",
       "  29951,\n",
       "  31424,\n",
       "  22135,\n",
       "  65523,\n",
       "  39921,\n",
       "  828,\n",
       "  45809,\n",
       "  43774,\n",
       "  1065,\n",
       "  65736,\n",
       "  65523,\n",
       "  8210,\n",
       "  29951,\n",
       "  33665,\n",
       "  22791,\n",
       "  23342,\n",
       "  71943,\n",
       "  1,\n",
       "  49303,\n",
       "  65523,\n",
       "  33768,\n",
       "  33726,\n",
       "  64394],\n",
       " [62632,\n",
       "  45809,\n",
       "  1,\n",
       "  39682,\n",
       "  72144,\n",
       "  29037,\n",
       "  69126,\n",
       "  23140,\n",
       "  24476,\n",
       "  1,\n",
       "  49065,\n",
       "  62117,\n",
       "  46592,\n",
       "  72586,\n",
       "  1,\n",
       "  46172,\n",
       "  57043,\n",
       "  65523,\n",
       "  33665,\n",
       "  1,\n",
       "  65356,\n",
       "  21888,\n",
       "  45809,\n",
       "  248,\n",
       "  12477,\n",
       "  1,\n",
       "  24615,\n",
       "  46317,\n",
       "  3892,\n",
       "  33665,\n",
       "  67833,\n",
       "  33335,\n",
       "  2085,\n",
       "  32858,\n",
       "  70693,\n",
       "  42444,\n",
       "  8937,\n",
       "  65543,\n",
       "  14405,\n",
       "  10551,\n",
       "  45809,\n",
       "  33768,\n",
       "  56131,\n",
       "  59557,\n",
       "  68839,\n",
       "  33768,\n",
       "  62184,\n",
       "  248,\n",
       "  65543,\n",
       "  72153,\n",
       "  66137,\n",
       "  72586,\n",
       "  44929,\n",
       "  26124,\n",
       "  44055,\n",
       "  21739,\n",
       "  39533,\n",
       "  33768,\n",
       "  34885,\n",
       "  66541,\n",
       "  45812,\n",
       "  51903,\n",
       "  21724,\n",
       "  65827,\n",
       "  25211,\n",
       "  65543,\n",
       "  21292,\n",
       "  59021,\n",
       "  5272,\n",
       "  67833,\n",
       "  45812,\n",
       "  65543,\n",
       "  14850,\n",
       "  17203,\n",
       "  72966,\n",
       "  39512,\n",
       "  58397,\n",
       "  57773,\n",
       "  19787,\n",
       "  66340,\n",
       "  1,\n",
       "  65755,\n",
       "  27380,\n",
       "  46049,\n",
       "  1,\n",
       "  65001,\n",
       "  37601,\n",
       "  33768,\n",
       "  56131,\n",
       "  6036,\n",
       "  65500,\n",
       "  73569,\n",
       "  41753,\n",
       "  65736,\n",
       "  72586,\n",
       "  60807,\n",
       "  27109,\n",
       "  11456,\n",
       "  8937,\n",
       "  25493,\n",
       "  27592,\n",
       "  70642,\n",
       "  74029,\n",
       "  25493,\n",
       "  62100,\n",
       "  56394,\n",
       "  35794,\n",
       "  2176,\n",
       "  24985,\n",
       "  24658,\n",
       "  9324,\n",
       "  5272,\n",
       "  57783,\n",
       "  8031]]"
      ]
     },
     "execution_count": 23,
     "metadata": {},
     "output_type": "execute_result"
    }
   ],
   "source": [
    "reviews_ints[:2]"
   ]
  },
  {
   "cell_type": "code",
   "execution_count": 26,
   "metadata": {},
   "outputs": [
    {
     "data": {
      "text/plain": [
       "<enumerate at 0x28798f78>"
      ]
     },
     "execution_count": 26,
     "metadata": {},
     "output_type": "execute_result"
    }
   ],
   "source": []
  },
  {
   "cell_type": "code",
   "execution_count": 24,
   "metadata": {
    "collapsed": true
   },
   "outputs": [],
   "source": [
    "from collections import Counter\n",
    "counts = Counter(words)\n",
    "vocab = sorted(counts, key=counts.get, reverse=True)\n",
    "vocab_to_int = {word: ii for ii, word in enumerate(vocab, 1)}\n",
    "\n",
    "reviews_ints = []\n",
    "for each in reviews:\n",
    "    reviews_ints.append([vocab_to_int[word] for word in each.split()])"
   ]
  },
  {
   "cell_type": "code",
   "execution_count": 25,
   "metadata": {
    "collapsed": true
   },
   "outputs": [
    {
     "data": {
      "text/plain": [
       "[[21383,\n",
       "  308,\n",
       "  6,\n",
       "  3,\n",
       "  1051,\n",
       "  207,\n",
       "  8,\n",
       "  2142,\n",
       "  32,\n",
       "  1,\n",
       "  171,\n",
       "  57,\n",
       "  15,\n",
       "  49,\n",
       "  81,\n",
       "  5849,\n",
       "  44,\n",
       "  382,\n",
       "  110,\n",
       "  140,\n",
       "  15,\n",
       "  5219,\n",
       "  60,\n",
       "  154,\n",
       "  9,\n",
       "  1,\n",
       "  4977,\n",
       "  5876,\n",
       "  475,\n",
       "  71,\n",
       "  5,\n",
       "  260,\n",
       "  12,\n",
       "  21383,\n",
       "  308,\n",
       "  13,\n",
       "  1980,\n",
       "  6,\n",
       "  74,\n",
       "  2398,\n",
       "  5,\n",
       "  614,\n",
       "  73,\n",
       "  6,\n",
       "  5219,\n",
       "  1,\n",
       "  25194,\n",
       "  5,\n",
       "  1989,\n",
       "  10206,\n",
       "  1,\n",
       "  5797,\n",
       "  1504,\n",
       "  36,\n",
       "  51,\n",
       "  66,\n",
       "  204,\n",
       "  145,\n",
       "  67,\n",
       "  1200,\n",
       "  5219,\n",
       "  20216,\n",
       "  1,\n",
       "  41890,\n",
       "  4,\n",
       "  1,\n",
       "  221,\n",
       "  883,\n",
       "  31,\n",
       "  2992,\n",
       "  71,\n",
       "  4,\n",
       "  1,\n",
       "  5822,\n",
       "  10,\n",
       "  687,\n",
       "  2,\n",
       "  67,\n",
       "  1504,\n",
       "  54,\n",
       "  10,\n",
       "  216,\n",
       "  1,\n",
       "  383,\n",
       "  9,\n",
       "  62,\n",
       "  3,\n",
       "  1406,\n",
       "  3704,\n",
       "  784,\n",
       "  5,\n",
       "  3487,\n",
       "  180,\n",
       "  1,\n",
       "  382,\n",
       "  10,\n",
       "  1214,\n",
       "  13973,\n",
       "  32,\n",
       "  308,\n",
       "  3,\n",
       "  349,\n",
       "  341,\n",
       "  2929,\n",
       "  10,\n",
       "  143,\n",
       "  127,\n",
       "  5,\n",
       "  7749,\n",
       "  30,\n",
       "  4,\n",
       "  129,\n",
       "  5219,\n",
       "  1406,\n",
       "  2326,\n",
       "  5,\n",
       "  21383,\n",
       "  308,\n",
       "  10,\n",
       "  528,\n",
       "  12,\n",
       "  109,\n",
       "  1450,\n",
       "  4,\n",
       "  60,\n",
       "  543,\n",
       "  102,\n",
       "  12,\n",
       "  21383,\n",
       "  308,\n",
       "  6,\n",
       "  227,\n",
       "  4167,\n",
       "  48,\n",
       "  3,\n",
       "  2218,\n",
       "  12,\n",
       "  8,\n",
       "  215,\n",
       "  23],\n",
       " [63,\n",
       "  4,\n",
       "  3,\n",
       "  125,\n",
       "  36,\n",
       "  47,\n",
       "  7472,\n",
       "  1396,\n",
       "  16,\n",
       "  3,\n",
       "  4191,\n",
       "  505,\n",
       "  45,\n",
       "  17,\n",
       "  3,\n",
       "  622,\n",
       "  134,\n",
       "  12,\n",
       "  6,\n",
       "  3,\n",
       "  1279,\n",
       "  457,\n",
       "  4,\n",
       "  1722,\n",
       "  207,\n",
       "  3,\n",
       "  10727,\n",
       "  7393,\n",
       "  300,\n",
       "  6,\n",
       "  667,\n",
       "  83,\n",
       "  35,\n",
       "  2122,\n",
       "  1089,\n",
       "  2995,\n",
       "  34,\n",
       "  1,\n",
       "  900,\n",
       "  72573,\n",
       "  4,\n",
       "  8,\n",
       "  13,\n",
       "  5097,\n",
       "  464,\n",
       "  8,\n",
       "  2663,\n",
       "  1722,\n",
       "  1,\n",
       "  221,\n",
       "  57,\n",
       "  17,\n",
       "  58,\n",
       "  796,\n",
       "  1298,\n",
       "  834,\n",
       "  228,\n",
       "  8,\n",
       "  43,\n",
       "  98,\n",
       "  123,\n",
       "  1469,\n",
       "  59,\n",
       "  147,\n",
       "  38,\n",
       "  1,\n",
       "  964,\n",
       "  142,\n",
       "  29,\n",
       "  667,\n",
       "  123,\n",
       "  1,\n",
       "  13759,\n",
       "  410,\n",
       "  61,\n",
       "  95,\n",
       "  1781,\n",
       "  306,\n",
       "  756,\n",
       "  5,\n",
       "  3,\n",
       "  819,\n",
       "  10607,\n",
       "  22,\n",
       "  3,\n",
       "  1724,\n",
       "  635,\n",
       "  8,\n",
       "  13,\n",
       "  128,\n",
       "  73,\n",
       "  21,\n",
       "  233,\n",
       "  102,\n",
       "  17,\n",
       "  49,\n",
       "  50,\n",
       "  617,\n",
       "  34,\n",
       "  685,\n",
       "  85,\n",
       "  29311,\n",
       "  29175,\n",
       "  685,\n",
       "  374,\n",
       "  3349,\n",
       "  11666,\n",
       "  2,\n",
       "  16752,\n",
       "  8028,\n",
       "  51,\n",
       "  29,\n",
       "  108,\n",
       "  3325]]"
      ]
     },
     "execution_count": 25,
     "metadata": {},
     "output_type": "execute_result"
    }
   ],
   "source": [
    "reviews_ints[:2]"
   ]
  },
  {
   "cell_type": "code",
   "execution_count": 7,
   "metadata": {
    "collapsed": true
   },
   "outputs": [],
   "source": [
    "# Create your dictionary that maps vocab words to integers here\n",
    "vocab_to_int =\n",
    "\n",
    "# Convert the reviews to integers, same shape as reviews list, but with integers\n",
    "reviews_ints = "
   ]
  },
  {
   "cell_type": "markdown",
   "metadata": {},
   "source": [
    "### Encoding the labels\n",
    "\n",
    "Our labels are \"positive\" or \"negative\". To use these labels in our network, we need to convert them to 0 and 1.\n",
    "\n",
    "> **Exercise:** Convert labels from `positive` and `negative` to 1 and 0, respectively."
   ]
  },
  {
   "cell_type": "code",
   "execution_count": 31,
   "metadata": {
    "scrolled": true
   },
   "outputs": [],
   "source": [
    "labels=labels.split('\\n')"
   ]
  },
  {
   "cell_type": "code",
   "execution_count": 32,
   "metadata": {
    "collapsed": true
   },
   "outputs": [],
   "source": [
    "# Convert labels to 1s and 0s for 'positive' and 'negative'\n",
    "labels = np.array([1 if l==\"positive\" else 0 for l in labels])"
   ]
  },
  {
   "cell_type": "markdown",
   "metadata": {},
   "source": [
    "If you built `labels` correctly, you should see the next output."
   ]
  },
  {
   "cell_type": "code",
   "execution_count": 33,
   "metadata": {},
   "outputs": [
    {
     "name": "stdout",
     "output_type": "stream",
     "text": [
      "Zero-length reviews: 1\n",
      "Maximum review length: 2514\n"
     ]
    }
   ],
   "source": [
    "from collections import Counter\n",
    "review_lens = Counter([len(x) for x in reviews_ints])\n",
    "print(\"Zero-length reviews: {}\".format(review_lens[0]))\n",
    "print(\"Maximum review length: {}\".format(max(review_lens)))"
   ]
  },
  {
   "cell_type": "markdown",
   "metadata": {},
   "source": [
    "Okay, a couple issues here. We seem to have one review with zero length. And, the maximum review length is way too many steps for our RNN. Let's truncate to 200 steps. For reviews shorter than 200, we'll pad with 0s. For reviews longer than 200, we can truncate them to the first 200 characters.\n",
    "\n",
    "> **Exercise:** First, remove the review with zero length from the `reviews_ints` list."
   ]
  },
  {
   "cell_type": "code",
   "execution_count": 40,
   "metadata": {
    "collapsed": true
   },
   "outputs": [],
   "source": [
    "non_zero_idx=[i for i,j in enumerate(reviews_ints) if len(j)!=0]"
   ]
  },
  {
   "cell_type": "code",
   "execution_count": null,
   "metadata": {},
   "outputs": [],
   "source": []
  },
  {
   "cell_type": "code",
   "execution_count": 45,
   "metadata": {},
   "outputs": [],
   "source": [
    "# Filter out that review with 0 length\n",
    "reviews_ints = [reviews_ints[i] for i in non_zero_idx]"
   ]
  },
  {
   "cell_type": "code",
   "execution_count": 46,
   "metadata": {
    "collapsed": true
   },
   "outputs": [],
   "source": [
    "labels=np.array([labels[i] for i in non_zero_idx])"
   ]
  },
  {
   "cell_type": "markdown",
   "metadata": {},
   "source": [
    "> **Exercise:** Now, create an array `features` that contains the data we'll pass to the network. The data should come from `review_ints`, since we want to feed integers to the network. Each row should be 200 elements long. For reviews shorter than 200 words, left pad with 0s. That is, if the review is `['best', 'movie', 'ever']`, `[117, 18, 128]` as integers, the row will look like `[0, 0, 0, ..., 0, 117, 18, 128]`. For reviews longer than 200, use on the first 200 words as the feature vector.\n",
    "\n",
    "This isn't trivial and there are a bunch of ways to do this. But, if you're going to be building your own deep learning networks, you're going to have to get used to preparing your data.\n",
    "\n"
   ]
  },
  {
   "cell_type": "code",
   "execution_count": 47,
   "metadata": {
    "collapsed": true
   },
   "outputs": [],
   "source": [
    "seq_len = 200 "
   ]
  },
  {
   "cell_type": "code",
   "execution_count": 53,
   "metadata": {},
   "outputs": [],
   "source": [
    "features=[]\n",
    "for review in reviews_ints:\n",
    "    len_rev=len(review)\n",
    "    if(len_rev<200):\n",
    "        features.append([np.zeros(seq_len-len_rev),review])\n",
    "    else:\n",
    "        features.append(review[:seq_len])\n",
    "        "
   ]
  },
  {
   "cell_type": "code",
   "execution_count": 56,
   "metadata": {
    "collapsed": true
   },
   "outputs": [],
   "source": [
    "seq_len = 200\n",
    "features = np.zeros((len(reviews_ints), seq_len), dtype=int)\n",
    "for i, row in enumerate(reviews_ints):\n",
    "    features[i, -len(row):] = np.array(row)[:seq_len]"
   ]
  },
  {
   "cell_type": "code",
   "execution_count": 57,
   "metadata": {},
   "outputs": [
    {
     "data": {
      "text/plain": [
       "array([[    0,     0,     0,     0,     0,     0,     0,     0,     0,\n",
       "            0,     0,     0,     0,     0,     0,     0,     0,     0,\n",
       "            0,     0,     0,     0,     0,     0,     0,     0,     0,\n",
       "            0,     0,     0,     0,     0,     0,     0,     0,     0,\n",
       "            0,     0,     0,     0,     0,     0,     0,     0,     0,\n",
       "            0,     0,     0,     0,     0,     0,     0,     0,     0,\n",
       "            0,     0,     0,     0,     0,     0,  8210, 29951, 33665,\n",
       "            1,  9819, 12477, 33768, 52591,  3689, 65543, 56451, 66137,\n",
       "         3397, 60807, 46549, 51107,   181, 57199, 37775, 63328,  3397,\n",
       "        64947, 43774, 73400, 32081, 65543, 64949, 51048, 37169, 40892,\n",
       "        66340,  5656, 65523,  8210, 29951, 56131, 56749, 33665, 43370,\n",
       "        11909],\n",
       "       [    0,     0,     0,     0,     0,     0,     0,     0,     0,\n",
       "            0,     0,     0,     0,     0,     0,     0,     0,     0,\n",
       "            0,     0,     0,     0,     0,     0,     0,     0,     0,\n",
       "            0,     0,     0,     0,     0,     0,     0,     0,     0,\n",
       "            0,     0,     0,     0,     0,     0,     0,     0,     0,\n",
       "            0,     0,     0,     0,     0,     0,     0,     0,     0,\n",
       "            0,     0,     0,     0,     0,     0,     0,     0,     0,\n",
       "            0,     0,     0,     0,     0,     0,     0,     0,     0,\n",
       "            0,     0,     0,     0,     0,     0,     0,     0,     0,\n",
       "            0,     0,     0,     0,     0, 62632, 45809,     1, 39682,\n",
       "        72144, 29037, 69126, 23140, 24476,     1, 49065, 62117, 46592,\n",
       "        72586],\n",
       "       [30468, 46281, 30894,  3397, 26255,  9670, 62132, 29037,  5480,\n",
       "         2085, 33756, 24476, 73400,  8855, 44548,     1, 49379, 66340,\n",
       "        29594, 65827, 46049, 65543, 62781, 65523, 71839, 46054, 13290,\n",
       "        31082, 72144, 17291, 21776, 25211, 27003, 66340, 57199, 72866,\n",
       "        46281, 70983, 24476, 65543, 40519, 43109, 48288, 65736, 45809,\n",
       "        65543, 30467,  3397, 34885,     1, 38584, 10113, 72024, 72933,\n",
       "          181, 65733, 63328,  3397, 52296, 65543, 71324, 46049, 33556,\n",
       "        50713, 35616, 66340, 63295, 65021, 65543, 20231, 32614, 46281,\n",
       "        72933, 31583, 65683, 38198,  5272, 44626, 66340, 20769, 69549,\n",
       "        46049, 65543, 62790,  7681,  7681,  8855, 71943, 31583, 73569,\n",
       "        71839, 26656,     1,  6005, 66340, 38153, 46049, 65543, 62790,\n",
       "        24476],\n",
       "       [ 1288, 62117,  3397,     1,  7768, 44559, 39012, 49383, 33665,\n",
       "        38216, 69549, 72586, 69952, 47210, 63328,  5709, 66340, 54889,\n",
       "         8824, 48799, 62377, 34001, 62390, 72144, 33665, 24288, 65580,\n",
       "            1,  8634, 45809, 70701, 56131, 66340, 30149, 21543, 32081,\n",
       "        50618, 45809, 33768,  5599, 46169, 66340, 65543, 51584,  3397,\n",
       "            1, 43651,  1737, 46049,  6978, 33665, 62377, 15635, 34807,\n",
       "        35224, 52181, 29692, 60856, 65543, 39012, 34340, 64548, 45812,\n",
       "         3397, 49397,  8855, 41701,  1251, 65543, 49383, 33665, 29890,\n",
       "        33894,  8937, 65543, 12023, 49123, 10480, 55282, 24783, 30149,\n",
       "        67982,   361, 56131,  4783, 42797, 40121, 72381, 41638, 47808,\n",
       "        72144, 35987, 65543, 47761, 14511, 46592, 72586, 60000, 25909,\n",
       "        65683],\n",
       "       [    0,     0,     0,     0,     0,     0,     0,     0,     0,\n",
       "            0,     0,     0,     0,     0,     0,     0,     0,     0,\n",
       "            0,     0,     0,     0,     0,     0,     0,     0,     0,\n",
       "            0,     0,     0,     0,     0,     0,     0,     0,     0,\n",
       "            0,     0,     0,     0,     0,     0,     0,     0,     0,\n",
       "            0,     0,     0,     0,     0,  8073, 46756,   528,  8937,\n",
       "        37539,  2385, 71405,  5984, 18984, 30286, 36557, 31424, 29156,\n",
       "        21744, 57783,  2176, 38665, 57048, 32081, 11925, 71344,  3051,\n",
       "        57682, 66340, 45030, 65543, 13826, 46049, 22488, 33665,     1,\n",
       "        11650,  3397, 27109,  3397,  2642, 32081,  6654, 56227, 65543,\n",
       "        64533, 46049, 37113, 33665,  1737, 63610,  1030,  5599,   410,\n",
       "        45809],\n",
       "       [    0,     0,     0,     0,     0,     0,     0,     0,     0,\n",
       "            0,     0,     0,     0,     0,     0,     0,     0,     0,\n",
       "            0,     0,     0,     0,     0,     0,     0,     0,     0,\n",
       "            0,     0,     0,     0,     0,     0,     0,     0,     0,\n",
       "            0,     0,     0,     0,     0,     0,     0,     0,     0,\n",
       "            0,     0,     0,     0,     0,     0,     0,     0,     0,\n",
       "        65773, 23548, 36517, 60828, 31424, 14048, 64394, 51887, 43774,\n",
       "        23666, 46049,  3689, 23768, 10635, 46049, 65543, 47667, 45809,\n",
       "        65543, 37178,   568, 65773, 32520, 67051, 66340, 36514, 45809,\n",
       "        10869, 71992, 58598, 58510, 65543, 57436, 72586, 29692, 37178,\n",
       "        39682, 21724, 65543, 55490, 57048,  9236,   519,  3397,  5599,\n",
       "        41376],\n",
       "       [    0,     0,     0,     0,     0,     0,     0,     0,     0,\n",
       "            0,     0,     0,     0,     0,     0,     0,     0,     0,\n",
       "            0,     0,     0,     0,     0,     0,     0,     0,     0,\n",
       "            0,     0,     0,     0,     0,     0,     0,     0,     0,\n",
       "            0,     0,     0,     0,     0,     0,     0,     0,     0,\n",
       "            0,     0,     0,     0,     0,     0,     0,     0,     0,\n",
       "            0,     0,     0,     0,     0,     0,     0,     0,     0,\n",
       "            0,     0,     0,     0,     0,     0,     0,     0,     0,\n",
       "            0,     0,     0,     0, 65773, 33665, 19767, 65543, 43109,\n",
       "        68593, 23548, 32786, 65543,  8242,  9408, 63802, 33810, 24003,\n",
       "        33768, 18431, 45177, 26653,     1, 52990, 70555, 45809, 30468,\n",
       "        69054],\n",
       "       [    0,     0,     0,     0,     0,     0,     0,     0,     0,\n",
       "            0,     0,     0,     0,     0,     0,     0,     0,     0,\n",
       "            0,     0,     0,     0,     0,     0,     0,     0,     0,\n",
       "            0,     0,     0,     0,     0,     0,     0,     0,     0,\n",
       "            0,     0,     0,     0,     0,     0,     0,     0,     0,\n",
       "            0,     0, 60976, 21773, 31424, 36007, 65773, 33665, 63764,\n",
       "        66340,  5272,  2085,  3304, 23548,  8855, 72985, 65683, 59021,\n",
       "        29156, 28696, 46592, 28216,  3689, 65543, 57442, 60569, 48288,\n",
       "        14046,  6873, 65571,  7740, 46592,  2176, 45177, 71476,  1778,\n",
       "        65543, 57043, 16814,  2176, 48896, 17572, 71425, 21922, 65773,\n",
       "        62632, 33665, 66541, 47191, 66340, 71476, 65543,   212, 45809,\n",
       "            1],\n",
       "       [    0,     0,     0,     0,     0,     0,     0,     0,     0,\n",
       "            0,     0,     0,     0,     0,     0,     0,     0,     0,\n",
       "            0,     0,     0,     0,     0,     0,     0,     0,     0,\n",
       "            0,     0,     0,     0,     0,     0,     0,     0,     0,\n",
       "            0,     0,     0,     0,     0,     0,     0,     0,     0,\n",
       "            0,     0,     0,     0,     0,     0,     0,     0,     0,\n",
       "            0,     0,     0,     0,     0,     0,     0,     0,     0,\n",
       "            0,     0,     0,     0,     0,     0,     0,     0,     0,\n",
       "            0,     0,     0,     0,     0,     0,     0, 65773, 33665,\n",
       "        45177, 65543, 68025, 41140,  8242, 23548, 33768, 71425, 43370,\n",
       "        37545, 59928, 65500, 43109, 45809, 30149, 43290,  2176,   578,\n",
       "        28404],\n",
       "       [71992, 31424, 71425, 38141, 43774, 47578, 66544, 40892,  1697,\n",
       "        66340, 65543, 65547, 66340, 57754, 33178, 33768, 71425, 46065,\n",
       "        45809, 39921, 43290, 31424, 71483, 72586, 43774, 47578,  8855,\n",
       "        65773, 71425, 65543, 46095, 46065, 71596, 71215, 46592, 45809,\n",
       "        59532, 65596, 31424, 28404, 44548, 57783, 33178, 69455, 34885,\n",
       "        53168,  2176, 31424, 14046, 29156, 38154, 46592, 65543, 54471,\n",
       "        45809, 43774, 37775, 72610, 33768, 71943,     1, 50753, 49924,\n",
       "         2176, 47193,  7467, 49032, 45809, 56131, 72443,  2176, 10825,\n",
       "        67419, 72807,  1598, 33665, 46065, 45809, 43774, 23010, 17585,\n",
       "         8855, 33178, 33665,  8937, 22791, 65543, 72952, 49032, 45809,\n",
       "        14332, 45809, 30149,  9611, 32081, 65543, 69110, 63077, 45809,\n",
       "        32692]])"
      ]
     },
     "execution_count": 57,
     "metadata": {},
     "output_type": "execute_result"
    }
   ],
   "source": [
    "features[:10,:100]"
   ]
  },
  {
   "cell_type": "markdown",
   "metadata": {},
   "source": [
    "If you build features correctly, it should look like that cell output below."
   ]
  },
  {
   "cell_type": "code",
   "execution_count": 13,
   "metadata": {},
   "outputs": [
    {
     "data": {
      "text/plain": [
       "array([[    0,     0,     0,     0,     0,     0,     0,     0,     0,\n",
       "            0,     0,     0,     0,     0,     0,     0,     0,     0,\n",
       "            0,     0,     0,     0,     0,     0,     0,     0,     0,\n",
       "            0,     0,     0,     0,     0,     0,     0,     0,     0,\n",
       "            0,     0,     0,     0,     0,     0,     0,     0,     0,\n",
       "            0,     0,     0,     0,     0,     0,     0,     0,     0,\n",
       "            0,     0,     0,     0,     0,     0, 21282,   308,     6,\n",
       "            3,  1050,   207,     8,  2143,    32,     1,   171,    57,\n",
       "           15,    49,    81,  5832,    44,   382,   110,   140,    15,\n",
       "         5236,    60,   154,     9,     1,  5014,  5899,   475,    71,\n",
       "            5,   260,    12, 21282,   308,    13,  1981,     6,    74,\n",
       "         2396],\n",
       "       [    0,     0,     0,     0,     0,     0,     0,     0,     0,\n",
       "            0,     0,     0,     0,     0,     0,     0,     0,     0,\n",
       "            0,     0,     0,     0,     0,     0,     0,     0,     0,\n",
       "            0,     0,     0,     0,     0,     0,     0,     0,     0,\n",
       "            0,     0,     0,     0,     0,     0,     0,     0,     0,\n",
       "            0,     0,     0,     0,     0,     0,     0,     0,     0,\n",
       "            0,     0,     0,     0,     0,     0,     0,     0,     0,\n",
       "            0,     0,     0,     0,     0,     0,     0,     0,     0,\n",
       "            0,     0,     0,     0,     0,     0,     0,     0,     0,\n",
       "            0,     0,     0,     0,     0,    63,     4,     3,   125,\n",
       "           36,    47,  7487,  1397,    16,     3,  4212,   505,    45,\n",
       "           17],\n",
       "       [23249,    42, 55982,    15,   707, 17288,  3398,    47,    77,\n",
       "           35,  1822,    16,   154,    19,   114,     3,  1308,     5,\n",
       "          336,   147,    22,     1,   857,    12,    70,   281,  1170,\n",
       "          399,    36,   120,   283,    38,   169,     5,   382,   158,\n",
       "           42,  2278,    16,     1,   541,    90,    78,   102,     4,\n",
       "            1,  3256,    15,    43,     3,   407,  1069,   136,  8165,\n",
       "           44,   182,   140,    15,  3054,     1,   321,    22,  4827,\n",
       "        28571,   346,     5,  3093,  2094,     1, 18970, 18062,    42,\n",
       "         8165,    46,    33,   236,    29,   370,     5,   130,    56,\n",
       "           22,     1,  1928,     7,     7,    19,    48,    46,    21,\n",
       "           70,   345,     3,  2102,     5,   408,    22,     1,  1928,\n",
       "           16],\n",
       "       [ 4504,   505,    15,     3,  3352,   162,  8369,  1655,     6,\n",
       "         4860,    56,    17,  4513,  5629,   140, 11938,     5,   996,\n",
       "         4969,  2947,  4464,   566,  1202,    36,     6,  1520,    96,\n",
       "            3,   744,     4, 28265,    13,     5,    27,  3464,     9,\n",
       "        10794,     4,     8,   111,  3024,     5,     1,  1027,    15,\n",
       "            3,  4400,    82,    22,  2058,     6,  4464,   538,  2773,\n",
       "         7123, 41932,    41,   463,     1,  8369, 62989,   302,   123,\n",
       "           15,  4230,    19,  1671,   923,     1,  1655,     6,  6166,\n",
       "        20692,    34,     1,   980,  1751, 22804,   646, 25292,    27,\n",
       "          106, 11901,    13, 14278, 15496, 18701,  2459,   466, 21189,\n",
       "           36,  3267,     1,  6436,  1020,    45,    17,  2700,  2500,\n",
       "           33],\n",
       "       [    0,     0,     0,     0,     0,     0,     0,     0,     0,\n",
       "            0,     0,     0,     0,     0,     0,     0,     0,     0,\n",
       "            0,     0,     0,     0,     0,     0,     0,     0,     0,\n",
       "            0,     0,     0,     0,     0,     0,     0,     0,     0,\n",
       "            0,     0,     0,     0,     0,     0,     0,     0,     0,\n",
       "            0,     0,     0,     0,     0,   520,   119,   113,    34,\n",
       "        16673,  1817,  3744,   117,   885, 22019,   721,    10,    28,\n",
       "          124,   108,     2,   115,   137,     9,  1626,  7742,    26,\n",
       "          330,     5,   590,     1,  6165,    22,   386,     6,     3,\n",
       "          349,    15,    50,    15,   231,     9,  7484, 11646,     1,\n",
       "          191,    22,  8994,     6,    82,   881,   101,   111,  3590,\n",
       "            4],\n",
       "       [    0,     0,     0,     0,     0,     0,     0,     0,     0,\n",
       "            0,     0,     0,     0,     0,     0,     0,     0,     0,\n",
       "            0,     0,     0,     0,     0,     0,     0,     0,     0,\n",
       "            0,     0,     0,     0,     0,     0,     0,     0,     0,\n",
       "            0,     0,     0,     0,     0,     0,     0,     0,     0,\n",
       "            0,     0,     0,     0,     0,     0,     0,     0,     0,\n",
       "           11,    20,  3662,   141,    10,   423,    23,   272,    60,\n",
       "         4362,    22,    32,    84,  3305,    22,     1,   172,     4,\n",
       "            1,   952,   507,    11,  4996,  5387,     5,   574,     4,\n",
       "         1154,    54,    53,  5328,     1,   261,    17,    41,   952,\n",
       "          125,    59,     1,   712,   137,   379,   627,    15,   111,\n",
       "         1511],\n",
       "       [    0,     0,     0,     0,     0,     0,     0,     0,     0,\n",
       "            0,     0,     0,     0,     0,     0,     0,     0,     0,\n",
       "            0,     0,     0,     0,     0,     0,     0,     0,     0,\n",
       "            0,     0,     0,     0,     0,     0,     0,     0,     0,\n",
       "            0,     0,     0,     0,     0,     0,     0,     0,     0,\n",
       "            0,     0,     0,     0,     0,     0,     0,     0,     0,\n",
       "            0,     0,     0,     0,     0,     0,     0,     0,     0,\n",
       "            0,     0,     0,     0,     0,     0,     0,     0,     0,\n",
       "            0,     0,     0,     0,    11,     6,   692,     1,    90,\n",
       "         2158,    20, 11793,     1,  2818,  5218,   249,    92,  3007,\n",
       "            8,   126,    24,   201,     3,   803,   634,     4, 23249,\n",
       "         1002],\n",
       "       [    0,     0,     0,     0,     0,     0,     0,     0,     0,\n",
       "            0,     0,     0,     0,     0,     0,     0,     0,     0,\n",
       "            0,     0,     0,     0,     0,     0,     0,     0,     0,\n",
       "            0,     0,     0,     0,     0,     0,     0,     0,     0,\n",
       "            0,     0,     0,     0,     0,     0,     0,     0,     0,\n",
       "            0,     0,   786,   295,    10,   122,    11,     6,   418,\n",
       "            5,    29,    35,   482,    20,    19,  1285,    33,   142,\n",
       "           28,  2667,    45,  1844,    32,     1,  2790,    37,    78,\n",
       "           97,  2439,    67,  3952,    45,     2,    24,   105,   256,\n",
       "            1,   134,  1572,     2, 12612,   452,    14,   319,    11,\n",
       "           63,     6,    98,  1322,     5,   105,     1,  3766,     4,\n",
       "            3],\n",
       "       [    0,     0,     0,     0,     0,     0,     0,     0,     0,\n",
       "            0,     0,     0,     0,     0,     0,     0,     0,     0,\n",
       "            0,     0,     0,     0,     0,     0,     0,     0,     0,\n",
       "            0,     0,     0,     0,     0,     0,     0,     0,     0,\n",
       "            0,     0,     0,     0,     0,     0,     0,     0,     0,\n",
       "            0,     0,     0,     0,     0,     0,     0,     0,     0,\n",
       "            0,     0,     0,     0,     0,     0,     0,     0,     0,\n",
       "            0,     0,     0,     0,     0,     0,     0,     0,     0,\n",
       "            0,     0,     0,     0,     0,     0,     0,    11,     6,\n",
       "           24,     1,   779,  3708,  2818,    20,     8,    14,    74,\n",
       "          325,  2739,    73,    90,     4,    27,    99,     2,   165,\n",
       "           68],\n",
       "       [   54,    10,    14,   116,    60,   798,   552,    71,   364,\n",
       "            5,     1,   731,     5,    66,  8089,     8,    14,    30,\n",
       "            4,   109,    99,    10,   293,    17,    60,   798,    19,\n",
       "           11,    14,     1,    64,    30,    69,  2506,    45,     4,\n",
       "          234,    93,    10,    68,   114,   108,  8089,   363,    43,\n",
       "         1009,     2,    10,    97,    28,  1431,    45,     1,   357,\n",
       "            4,    60,   110,   205,     8,    48,     3,  1929, 11029,\n",
       "            2,  2127,   354,   412,     4,    13,  6676,     2,  2975,\n",
       "         5174,  2125,  1371,     6,    30,     4,    60,   502,   876,\n",
       "           19,  8089,     6,    34,   227,     1,   247,   412,     4,\n",
       "          582,     4,    27,   599,     9,     1, 13829,   395,     4,\n",
       "        14175]])"
      ]
     },
     "execution_count": 13,
     "metadata": {},
     "output_type": "execute_result"
    }
   ],
   "source": [
    "features[:10,:100]"
   ]
  },
  {
   "cell_type": "markdown",
   "metadata": {},
   "source": [
    "## Training, Validation, Test\n",
    "\n"
   ]
  },
  {
   "cell_type": "markdown",
   "metadata": {},
   "source": [
    "With our data in nice shape, we'll split it into training, validation, and test sets.\n",
    "\n",
    "> **Exercise:** Create the training, validation, and test sets here. You'll need to create sets for the features and the labels, `train_x` and `train_y` for example. Define a split fraction, `split_frac` as the fraction of data to keep in the training set. Usually this is set to 0.8 or 0.9. The rest of the data will be split in half to create the validation and testing data."
   ]
  },
  {
   "cell_type": "code",
   "execution_count": 63,
   "metadata": {},
   "outputs": [
    {
     "name": "stdout",
     "output_type": "stream",
     "text": [
      "\t\t\tFeature Shapes:\n",
      "Train set: \t\t(20000, 200) \n",
      "Validation set: \t(2500, 200) \n",
      "Test set: \t\t(2500, 200)\n"
     ]
    }
   ],
   "source": [
    "split_frac = 0.8\n",
    "\n",
    "tr_idx=int(len(features)*0.8)\n",
    "train_x, val_x = features[:tr_idx],features[tr_idx:]\n",
    "train_y, val_y = labels[:tr_idx],labels[tr_idx:]\n",
    "\n",
    "vt_idx=int(len(val_x)/2)\n",
    "val_x, test_x = val_x[:vt_idx],val_x[vt_idx:]\n",
    "val_y, test_y = val_y[:vt_idx],val_y[vt_idx:]\n",
    "\n",
    "print(\"\\t\\t\\tFeature Shapes:\")\n",
    "print(\"Train set: \\t\\t{}\".format(train_x.shape), \n",
    "      \"\\nValidation set: \\t{}\".format(val_x.shape),\n",
    "      \"\\nTest set: \\t\\t{}\".format(test_x.shape))"
   ]
  },
  {
   "cell_type": "code",
   "execution_count": null,
   "metadata": {},
   "outputs": [],
   "source": []
  },
  {
   "cell_type": "markdown",
   "metadata": {},
   "source": [
    "With train, validation, and text fractions of 0.8, 0.1, 0.1, the final shapes should look like:\n",
    "```\n",
    "                    Feature Shapes:\n",
    "Train set: \t\t (20000, 200) \n",
    "Validation set: \t(2500, 200) \n",
    "Test set: \t\t  (2500, 200)\n",
    "```"
   ]
  },
  {
   "cell_type": "markdown",
   "metadata": {},
   "source": [
    "## Build the graph\n",
    "\n",
    "Here, we'll build the graph. First up, defining the hyperparameters.\n",
    "\n",
    "* `lstm_size`: Number of units in the hidden layers in the LSTM cells. Usually larger is better performance wise. Common values are 128, 256, 512, etc.\n",
    "* `lstm_layers`: Number of LSTM layers in the network. I'd start with 1, then add more if I'm underfitting.\n",
    "* `batch_size`: The number of reviews to feed the network in one training pass. Typically this should be set as high as you can go without running out of memory.\n",
    "* `learning_rate`: Learning rate"
   ]
  },
  {
   "cell_type": "code",
   "execution_count": 64,
   "metadata": {
    "collapsed": true
   },
   "outputs": [],
   "source": [
    "lstm_size = 256\n",
    "lstm_layers = 1\n",
    "batch_size = 500\n",
    "learning_rate = 0.001"
   ]
  },
  {
   "cell_type": "markdown",
   "metadata": {},
   "source": [
    "For the network itself, we'll be passing in our 200 element long review vectors. Each batch will be `batch_size` vectors. We'll also be using dropout on the LSTM layer, so we'll make a placeholder for the keep probability."
   ]
  },
  {
   "cell_type": "markdown",
   "metadata": {},
   "source": [
    "> **Exercise:** Create the `inputs_`, `labels_`, and drop out `keep_prob` placeholders using `tf.placeholder`. `labels_` needs to be two-dimensional to work with some functions later.  Since `keep_prob` is a scalar (a 0-dimensional tensor), you shouldn't provide a size to `tf.placeholder`."
   ]
  },
  {
   "cell_type": "code",
   "execution_count": 65,
   "metadata": {
    "collapsed": true
   },
   "outputs": [],
   "source": [
    "n_words = len(vocab_to_int) + 1 # Adding 1 because we use 0's for padding, dictionary started at 1\n",
    "\n",
    "# Create the graph object\n",
    "graph = tf.Graph()\n",
    "# Add nodes to the graph\n",
    "with graph.as_default():\n",
    "    inputs_ = tf.placeholder(tf.int32,[None,None],name=\"inputs\")\n",
    "    labels_ =  tf.placeholder(tf.int32,[None,None],name=\"labels\")\n",
    "    keep_prob = tf.placeholder(tf.float32, name='keep_prob')"
   ]
  },
  {
   "cell_type": "markdown",
   "metadata": {},
   "source": [
    "### Embedding\n",
    "\n",
    "Now we'll add an embedding layer. We need to do this because there are 74000 words in our vocabulary. It is massively inefficient to one-hot encode our classes here. You should remember dealing with this problem from the word2vec lesson. Instead of one-hot encoding, we can have an embedding layer and use that layer as a lookup table. You could train an embedding layer using word2vec, then load it here. But, it's fine to just make a new layer and let the network learn the weights.\n",
    "\n",
    "> **Exercise:** Create the embedding lookup matrix as a `tf.Variable`. Use that embedding matrix to get the embedded vectors to pass to the LSTM cell with [`tf.nn.embedding_lookup`](https://www.tensorflow.org/api_docs/python/tf/nn/embedding_lookup). This function takes the embedding matrix and an input tensor, such as the review vectors. Then, it'll return another tensor with the embedded vectors. So, if the embedding layer has 200 units, the function will return a tensor with size [batch_size, 200].\n",
    "\n"
   ]
  },
  {
   "cell_type": "code",
   "execution_count": 66,
   "metadata": {
    "collapsed": true
   },
   "outputs": [],
   "source": [
    "# Size of the embedding vectors (number of units in the embedding layer)\n",
    "embed_size = 300 \n",
    "\n",
    "with graph.as_default():\n",
    "    embedding = tf.Variable(tf.random_uniform((n_words, embed_size), -1, 1))\n",
    "    embed = tf.nn.embedding_lookup(embedding, inputs_)"
   ]
  },
  {
   "cell_type": "markdown",
   "metadata": {},
   "source": [
    "### LSTM cell\n",
    "\n",
    "<img src=\"assets/network_diagram.png\" width=400px>\n",
    "\n",
    "Next, we'll create our LSTM cells to use in the recurrent network ([TensorFlow documentation](https://www.tensorflow.org/api_docs/python/tf/contrib/rnn)). Here we are just defining what the cells look like. This isn't actually building the graph, just defining the type of cells we want in our graph.\n",
    "\n",
    "To create a basic LSTM cell for the graph, you'll want to use `tf.contrib.rnn.BasicLSTMCell`. Looking at the function documentation:\n",
    "\n",
    "```\n",
    "tf.contrib.rnn.BasicLSTMCell(num_units, forget_bias=1.0, input_size=None, state_is_tuple=True, activation=<function tanh at 0x109f1ef28>)\n",
    "```\n",
    "\n",
    "you can see it takes a parameter called `num_units`, the number of units in the cell, called `lstm_size` in this code. So then, you can write something like \n",
    "\n",
    "```\n",
    "lstm = tf.contrib.rnn.BasicLSTMCell(num_units)\n",
    "```\n",
    "\n",
    "to create an LSTM cell with `num_units`. Next, you can add dropout to the cell with `tf.contrib.rnn.DropoutWrapper`. This just wraps the cell in another cell, but with dropout added to the inputs and/or outputs. It's a really convenient way to make your network better with almost no effort! So you'd do something like\n",
    "\n",
    "```\n",
    "drop = tf.contrib.rnn.DropoutWrapper(cell, output_keep_prob=keep_prob)\n",
    "```\n",
    "\n",
    "Most of the time, your network will have better performance with more layers. That's sort of the magic of deep learning, adding more layers allows the network to learn really complex relationships. Again, there is a simple way to create multiple layers of LSTM cells with `tf.contrib.rnn.MultiRNNCell`:\n",
    "\n",
    "```\n",
    "cell = tf.contrib.rnn.MultiRNNCell([drop] * lstm_layers)\n",
    "```\n",
    "\n",
    "Here, `[drop] * lstm_layers` creates a list of cells (`drop`) that is `lstm_layers` long. The `MultiRNNCell` wrapper builds this into multiple layers of RNN cells, one for each cell in the list.\n",
    "\n",
    "So the final cell you're using in the network is actually multiple (or just one) LSTM cells with dropout. But it all works the same from an achitectural viewpoint, just a more complicated graph in the cell.\n",
    "\n",
    "> **Exercise:** Below, use `tf.contrib.rnn.BasicLSTMCell` to create an LSTM cell. Then, add drop out to it with `tf.contrib.rnn.DropoutWrapper`. Finally, create multiple LSTM layers with `tf.contrib.rnn.MultiRNNCell`.\n",
    "\n",
    "Here is [a tutorial on building RNNs](https://www.tensorflow.org/tutorials/recurrent) that will help you out.\n"
   ]
  },
  {
   "cell_type": "code",
   "execution_count": 67,
   "metadata": {},
   "outputs": [
    {
     "name": "stderr",
     "output_type": "stream",
     "text": [
      "C:\\Users\\gaotian\\AppData\\Local\\Continuum\\Anaconda3\\envs\\tensorflow\\lib\\site-packages\\h5py\\__init__.py:36: FutureWarning: Conversion of the second argument of issubdtype from `float` to `np.floating` is deprecated. In future, it will be treated as `np.float64 == np.dtype(float).type`.\n",
      "  from ._conv import register_converters as _register_converters\n"
     ]
    }
   ],
   "source": [
    "with graph.as_default():\n",
    "    # Your basic LSTM cell\n",
    "    lstm = tf.contrib.rnn.BasicLSTMCell(lstm_size)\n",
    "    \n",
    "    # Add dropout to the cell\n",
    "    drop = tf.contrib.rnn.DropoutWrapper(lstm, output_keep_prob=keep_prob)\n",
    "    \n",
    "    # Stack up multiple LSTM layers, for deep learning\n",
    "    cell = tf.contrib.rnn.MultiRNNCell([drop] * lstm_layers)\n",
    "    \n",
    "    # Getting an initial state of all zeros\n",
    "    initial_state = cell.zero_state(batch_size, tf.float32)"
   ]
  },
  {
   "cell_type": "markdown",
   "metadata": {},
   "source": [
    "### RNN forward pass\n",
    "\n",
    "<img src=\"assets/network_diagram.png\" width=400px>\n",
    "\n",
    "Now we need to actually run the data through the RNN nodes. You can use [`tf.nn.dynamic_rnn`](https://www.tensorflow.org/api_docs/python/tf/nn/dynamic_rnn) to do this. You'd pass in the RNN cell you created (our multiple layered LSTM `cell` for instance), and the inputs to the network.\n",
    "\n",
    "```\n",
    "outputs, final_state = tf.nn.dynamic_rnn(cell, inputs, initial_state=initial_state)\n",
    "```\n",
    "\n",
    "Above I created an initial state, `initial_state`, to pass to the RNN. This is the cell state that is passed between the hidden layers in successive time steps. `tf.nn.dynamic_rnn` takes care of most of the work for us. We pass in our cell and the input to the cell, then it does the unrolling and everything else for us. It returns outputs for each time step and the final_state of the hidden layer.\n",
    "\n",
    "> **Exercise:** Use `tf.nn.dynamic_rnn` to add the forward pass through the RNN. Remember that we're actually passing in vectors from the embedding layer, `embed`.\n",
    "\n"
   ]
  },
  {
   "cell_type": "code",
   "execution_count": 68,
   "metadata": {
    "collapsed": true
   },
   "outputs": [],
   "source": [
    "with graph.as_default():\n",
    "    outputs, final_state = tf.nn.dynamic_rnn(cell, embed, initial_state=initial_state)"
   ]
  },
  {
   "cell_type": "markdown",
   "metadata": {},
   "source": [
    "### Output\n",
    "\n",
    "We only care about the final output, we'll be using that as our sentiment prediction. So we need to grab the last output with `outputs[:, -1]`, the calculate the cost from that and `labels_`."
   ]
  },
  {
   "cell_type": "code",
   "execution_count": 69,
   "metadata": {
    "collapsed": true
   },
   "outputs": [],
   "source": [
    "with graph.as_default():\n",
    "    predictions = tf.contrib.layers.fully_connected(outputs[:, -1], 1, activation_fn=tf.sigmoid)\n",
    "    cost = tf.losses.mean_squared_error(labels_, predictions)\n",
    "    \n",
    "    optimizer = tf.train.AdamOptimizer(learning_rate).minimize(cost)"
   ]
  },
  {
   "cell_type": "markdown",
   "metadata": {},
   "source": [
    "### Validation accuracy\n",
    "\n",
    "Here we can add a few nodes to calculate the accuracy which we'll use in the validation pass."
   ]
  },
  {
   "cell_type": "code",
   "execution_count": 70,
   "metadata": {
    "collapsed": true
   },
   "outputs": [],
   "source": [
    "with graph.as_default():\n",
    "    correct_pred = tf.equal(tf.cast(tf.round(predictions), tf.int32), labels_)\n",
    "    accuracy = tf.reduce_mean(tf.cast(correct_pred, tf.float32))"
   ]
  },
  {
   "cell_type": "markdown",
   "metadata": {},
   "source": [
    "### Batching\n",
    "\n",
    "This is a simple function for returning batches from our data. First it removes data such that we only have full batches. Then it iterates through the `x` and `y` arrays and returns slices out of those arrays with size `[batch_size]`."
   ]
  },
  {
   "cell_type": "code",
   "execution_count": 71,
   "metadata": {
    "collapsed": true
   },
   "outputs": [],
   "source": [
    "def get_batches(x, y, batch_size=100):\n",
    "    \n",
    "    n_batches = len(x)//batch_size\n",
    "    x, y = x[:n_batches*batch_size], y[:n_batches*batch_size]\n",
    "    for ii in range(0, len(x), batch_size):\n",
    "        yield x[ii:ii+batch_size], y[ii:ii+batch_size]"
   ]
  },
  {
   "cell_type": "markdown",
   "metadata": {},
   "source": [
    "## Training\n",
    "\n",
    "Below is the typical training code. If you want to do this yourself, feel free to delete all this code and implement it yourself. Before you run this, make sure the `checkpoints` directory exists."
   ]
  },
  {
   "cell_type": "code",
   "execution_count": null,
   "metadata": {},
   "outputs": [
    {
     "name": "stdout",
     "output_type": "stream",
     "text": [
      "Epoch: 0/10 Iteration: 5 Train loss: 0.245\n",
      "Epoch: 0/10 Iteration: 10 Train loss: 0.241\n",
      "Epoch: 0/10 Iteration: 15 Train loss: 0.226\n",
      "Epoch: 0/10 Iteration: 20 Train loss: 0.236\n",
      "Epoch: 0/10 Iteration: 25 Train loss: 0.221\n",
      "Val acc: 0.642\n",
      "Epoch: 0/10 Iteration: 30 Train loss: 0.206\n",
      "Epoch: 0/10 Iteration: 35 Train loss: 0.197\n"
     ]
    }
   ],
   "source": [
    "epochs = 10\n",
    "\n",
    "with graph.as_default():\n",
    "    saver = tf.train.Saver()\n",
    "\n",
    "with tf.Session(graph=graph) as sess:\n",
    "    sess.run(tf.global_variables_initializer())\n",
    "    iteration = 1\n",
    "    for e in range(epochs):\n",
    "        state = sess.run(initial_state)\n",
    "        \n",
    "        for ii, (x, y) in enumerate(get_batches(train_x, train_y, batch_size), 1):\n",
    "            feed = {inputs_: x,\n",
    "                    labels_: y[:, None],\n",
    "                    keep_prob: 0.5,\n",
    "                    initial_state: state}\n",
    "            loss, state, _ = sess.run([cost, final_state, optimizer], feed_dict=feed)\n",
    "            \n",
    "            if iteration%5==0:\n",
    "                print(\"Epoch: {}/{}\".format(e, epochs),\n",
    "                      \"Iteration: {}\".format(iteration),\n",
    "                      \"Train loss: {:.3f}\".format(loss))\n",
    "\n",
    "            if iteration%25==0:\n",
    "                val_acc = []\n",
    "                val_state = sess.run(cell.zero_state(batch_size, tf.float32))\n",
    "                for x, y in get_batches(val_x, val_y, batch_size):\n",
    "                    feed = {inputs_: x,\n",
    "                            labels_: y[:, None],\n",
    "                            keep_prob: 1,\n",
    "                            initial_state: val_state}\n",
    "                    batch_acc, val_state = sess.run([accuracy, final_state], feed_dict=feed)\n",
    "                    val_acc.append(batch_acc)\n",
    "                print(\"Val acc: {:.3f}\".format(np.mean(val_acc)))\n",
    "            iteration +=1\n",
    "    saver.save(sess, \"checkpoints/sentiment.ckpt\")"
   ]
  },
  {
   "cell_type": "markdown",
   "metadata": {},
   "source": [
    "## Testing"
   ]
  },
  {
   "cell_type": "code",
   "execution_count": null,
   "metadata": {
    "collapsed": true
   },
   "outputs": [],
   "source": [
    "test_acc = []\n",
    "with tf.Session(graph=graph) as sess:\n",
    "    saver.restore(sess, tf.train.latest_checkpoint('checkpoints'))\n",
    "    test_state = sess.run(cell.zero_state(batch_size, tf.float32))\n",
    "    for ii, (x, y) in enumerate(get_batches(test_x, test_y, batch_size), 1):\n",
    "        feed = {inputs_: x,\n",
    "                labels_: y[:, None],\n",
    "                keep_prob: 1,\n",
    "                initial_state: test_state}\n",
    "        batch_acc, test_state = sess.run([accuracy, final_state], feed_dict=feed)\n",
    "        test_acc.append(batch_acc)\n",
    "    print(\"Test accuracy: {:.3f}\".format(np.mean(test_acc)))"
   ]
  },
  {
   "cell_type": "code",
   "execution_count": null,
   "metadata": {
    "collapsed": true
   },
   "outputs": [],
   "source": []
  }
 ],
 "metadata": {
  "kernelspec": {
   "display_name": "Python 3",
   "language": "python",
   "name": "python3"
  },
  "language_info": {
   "codemirror_mode": {
    "name": "ipython",
    "version": 3
   },
   "file_extension": ".py",
   "mimetype": "text/x-python",
   "name": "python",
   "nbconvert_exporter": "python",
   "pygments_lexer": "ipython3",
   "version": "3.5.4"
  }
 },
 "nbformat": 4,
 "nbformat_minor": 2
}
